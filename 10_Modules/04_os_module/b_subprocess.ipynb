{
 "cells": [
  {
   "cell_type": "markdown",
   "metadata": {
    "vscode": {
     "languageId": "plaintext"
    }
   },
   "source": [
    "# os.system and subprocess"
   ]
  },
  {
   "cell_type": "code",
   "execution_count": 1,
   "metadata": {},
   "outputs": [
    {
     "data": {
      "text/plain": [
       "['__call__',\n",
       " '__class__',\n",
       " '__delattr__',\n",
       " '__dir__',\n",
       " '__doc__',\n",
       " '__eq__',\n",
       " '__format__',\n",
       " '__ge__',\n",
       " '__getattribute__',\n",
       " '__getstate__',\n",
       " '__gt__',\n",
       " '__hash__',\n",
       " '__init__',\n",
       " '__init_subclass__',\n",
       " '__le__',\n",
       " '__lt__',\n",
       " '__module__',\n",
       " '__name__',\n",
       " '__ne__',\n",
       " '__new__',\n",
       " '__qualname__',\n",
       " '__reduce__',\n",
       " '__reduce_ex__',\n",
       " '__repr__',\n",
       " '__self__',\n",
       " '__setattr__',\n",
       " '__sizeof__',\n",
       " '__str__',\n",
       " '__subclasshook__',\n",
       " '__text_signature__']"
      ]
     },
     "execution_count": 1,
     "metadata": {},
     "output_type": "execute_result"
    }
   ],
   "source": [
    "import os\n",
    "\n",
    "dir(os.system)"
   ]
  },
  {
   "cell_type": "code",
   "execution_count": 2,
   "metadata": {},
   "outputs": [
    {
     "name": "stdout",
     "output_type": "stream",
     "text": [
      "total 40\n",
      "-rw-rw-rw- 1 codespace codespace    41 Oct 21 20:58 mytestfile.txt\n",
      "-rw-rw-rw- 1 codespace codespace 30400 Oct 21 20:59 os_module.ipynb\n",
      "-rw-rw-rw- 1 codespace codespace  1865 Oct 21 21:01 b_subprocess.ipynb\n"
     ]
    },
    {
     "data": {
      "text/plain": [
       "0"
      ]
     },
     "execution_count": 2,
     "metadata": {},
     "output_type": "execute_result"
    }
   ],
   "source": [
    "os.system('ls -ltr')"
   ]
  },
  {
   "cell_type": "code",
   "execution_count": 3,
   "metadata": {},
   "outputs": [
    {
     "name": "stderr",
     "output_type": "stream",
     "text": [
      "ls: cannot access 'r': No such file or directory\n"
     ]
    },
    {
     "data": {
      "text/plain": [
       "512"
      ]
     },
     "execution_count": 3,
     "metadata": {},
     "output_type": "execute_result"
    }
   ],
   "source": [
    "os.system('ls -lt r')"
   ]
  },
  {
   "cell_type": "code",
   "execution_count": 4,
   "metadata": {},
   "outputs": [
    {
     "name": "stdout",
     "output_type": "stream",
     "text": [
      "UID          PID    PPID  C STIME TTY          TIME CMD\n",
      "codespa+       1       0  0 20:35 ?        00:00:00 /sbin/docker-init -- /bin/sh -c echo Container started trap \"exit 0\" 15 /usr/local/share/ssh-init.sh /usr/local/share/docker-init.sh exec \"$@\" while sleep 1 & wait $!; do :; done - /usr/local/share/docker-init.sh /usr/local/share/ssh-init.sh sleep infinity\n",
      "codespa+       8       1  0 20:35 ?        00:00:00 sleep infinity\n",
      "root          36       1  0 20:35 ?        00:00:00 sshd: /usr/sbin/sshd [listener] 0 of 10-100 startups\n",
      "codespa+     409       0  0 20:35 ?        00:00:00 /bin/sh\n",
      "root         446       0  0 20:35 ?        00:00:00 /bin/sh\n",
      "codespa+     599       0  0 20:35 ?        00:00:00 sh /home/codespace/.vscode-remote/bin/384ff7382de624fb94dbaf6da11977bba1ecd427/bin/code-server --log trace --force-disable-user-env --server-data-dir /home/codespace/.vscode-remote --accept-server-license-terms --host 127.0.0.1 --port 0 --connection-token-file /home/codespace/.vscode-remote/data/Machine/.connection-token-384ff7382de624fb94dbaf6da11977bba1ecd427 --extensions-download-dir /home/codespace/.vscode-remote/extensionsCache --start-server  --enable-remote-auto-shutdown --skip-requirements-check\n",
      "codespa+     609     599  0 20:35 ?        00:00:06 /vscode/bin/linux-x64/384ff7382de624fb94dbaf6da11977bba1ecd427/node /vscode/bin/linux-x64/384ff7382de624fb94dbaf6da11977bba1ecd427/out/server-main.js --log trace --force-disable-user-env --server-data-dir /home/codespace/.vscode-remote --accept-server-license-terms --host 127.0.0.1 --port 0 --connection-token-file /home/codespace/.vscode-remote/data/Machine/.connection-token-384ff7382de624fb94dbaf6da11977bba1ecd427 --extensions-download-dir /home/codespace/.vscode-remote/extensionsCache --start-server  --enable-remote-auto-shutdown --skip-requirements-check\n",
      "codespa+     630     609  7 20:35 ?        00:02:04 /vscode/bin/linux-x64/384ff7382de624fb94dbaf6da11977bba1ecd427/node --dns-result-order=ipv4first /vscode/bin/linux-x64/384ff7382de624fb94dbaf6da11977bba1ecd427/out/bootstrap-fork --type=extensionHost --transformURIs --useHostProxy=false\n",
      "codespa+     642     609  0 20:35 ?        00:00:06 /vscode/bin/linux-x64/384ff7382de624fb94dbaf6da11977bba1ecd427/node /vscode/bin/linux-x64/384ff7382de624fb94dbaf6da11977bba1ecd427/out/bootstrap-fork --type=fileWatcher\n",
      "codespa+    1089     630  0 20:35 ?        00:00:00 /vscode/bin/linux-x64/384ff7382de624fb94dbaf6da11977bba1ecd427/node /vscode/bin/linux-x64/384ff7382de624fb94dbaf6da11977bba1ecd427/extensions/markdown-language-features/dist/serverWorkerMain --node-ipc --clientProcessId=630\n",
      "codespa+    1119     609  0 20:35 ?        00:00:02 /vscode/bin/linux-x64/384ff7382de624fb94dbaf6da11977bba1ecd427/node /vscode/bin/linux-x64/384ff7382de624fb94dbaf6da11977bba1ecd427/out/bootstrap-fork --type=ptyHost --logsPath /home/codespace/.vscode-remote/data/logs/20241021T203516\n",
      "codespa+    1169    1119  0 20:35 pts/0    00:00:00 /bin/bash --init-file /vscode/bin/linux-x64/384ff7382de624fb94dbaf6da11977bba1ecd427/out/vs/workbench/contrib/terminal/common/scripts/shellIntegration-bash.sh\n",
      "codespa+    1628     630  0 20:35 ?        00:00:00 /home/codespace/.vscode-remote/extensions/ms-python.python-2024.16.1-linux-x64/python-env-tools/bin/pet server\n",
      "codespa+    1878    1119  0 20:35 pts/1    00:00:00 /bin/bash --init-file /vscode/bin/linux-x64/384ff7382de624fb94dbaf6da11977bba1ecd427/out/vs/workbench/contrib/terminal/common/scripts/shellIntegration-bash.sh\n",
      "codespa+    2283     630  4 20:35 ?        00:01:07 /vscode/bin/linux-x64/384ff7382de624fb94dbaf6da11977bba1ecd427/node /home/codespace/.vscode-remote/extensions/ms-python.vscode-pylance-2024.10.1/dist/server.bundle.js --cancellationReceive=file:a24fc550f5aa3370718864ab6a33705efdfdd9c971 --node-ipc --clientProcessId=630\n",
      "codespa+    2289       0  0 20:35 ?        00:00:00 /bin/sh\n",
      "root        2330       0  0 20:35 ?        00:00:00 /bin/sh\n",
      "root        2749       1  0 20:35 ?        00:00:00 dockerd --dns 168.63.129.16\n",
      "root        2756    2749  0 20:35 ?        00:00:00 containerd --config /var/run/docker/containerd/containerd.toml\n",
      "codespa+    3744     630  0 20:38 ?        00:00:00 /vscode/bin/linux-x64/384ff7382de624fb94dbaf6da11977bba1ecd427/node /vscode/bin/linux-x64/384ff7382de624fb94dbaf6da11977bba1ecd427/extensions/json-language-features/server/dist/node/jsonServerMain --node-ipc --clientProcessId=630\n",
      "codespa+    4274     630  2 20:39 ?        00:00:28 /home/codespace/.python/current/bin/python -m ipykernel_launcher --f=/home/codespace/.local/share/jupyter/runtime/kernel-v3a865c785d0939ce805158a31bb1df77f36e0f41a.json\n",
      "codespa+   16581     630  0 21:00 ?        00:00:00 /home/codespace/.python/current/bin/python -m ipykernel_launcher --f=/home/codespace/.local/share/jupyter/runtime/kernel-v38fb7d4e7d2d9797edeced546742baad474f5ba45.json\n",
      "codespa+   17885   16581  0 21:03 ?        00:00:00 sh -c ps -ef\n",
      "codespa+   17886   17885  0 21:03 ?        00:00:00 ps -ef\n"
     ]
    },
    {
     "data": {
      "text/plain": [
       "0"
      ]
     },
     "execution_count": 4,
     "metadata": {},
     "output_type": "execute_result"
    }
   ],
   "source": [
    "os.system('ps -ef')"
   ]
  },
  {
   "cell_type": "code",
   "execution_count": 5,
   "metadata": {},
   "outputs": [
    {
     "name": "stderr",
     "output_type": "stream",
     "text": [
      "error: garbage option\n",
      "\n",
      "Usage:\n",
      " ps [options]\n",
      "\n",
      " Try 'ps --help <simple|list|output|threads|misc|all>'\n",
      "  or 'ps --help <s|l|o|t|m|a>'\n",
      " for additional help text.\n",
      "\n",
      "For more details see ps(1).\n"
     ]
    },
    {
     "data": {
      "text/plain": [
       "256"
      ]
     },
     "execution_count": 5,
     "metadata": {},
     "output_type": "execute_result"
    }
   ],
   "source": [
    "os.system('ps =ef')"
   ]
  },
  {
   "cell_type": "code",
   "execution_count": 6,
   "metadata": {},
   "outputs": [
    {
     "name": "stdout",
     "output_type": "stream",
     "text": [
      "\u001b[H\u001b[2J"
     ]
    },
    {
     "data": {
      "text/plain": [
       "0"
      ]
     },
     "execution_count": 6,
     "metadata": {},
     "output_type": "execute_result"
    }
   ],
   "source": [
    "os.system('clear')"
   ]
  },
  {
   "cell_type": "code",
   "execution_count": 7,
   "metadata": {},
   "outputs": [
    {
     "name": "stderr",
     "output_type": "stream",
     "text": [
      "sh: 1: cls: not found\n"
     ]
    },
    {
     "data": {
      "text/plain": [
       "32512"
      ]
     },
     "execution_count": 7,
     "metadata": {},
     "output_type": "execute_result"
    }
   ],
   "source": [
    "os.system('cls')"
   ]
  },
  {
   "cell_type": "code",
   "execution_count": 8,
   "metadata": {},
   "outputs": [
    {
     "data": {
      "text/plain": [
       "'linux'"
      ]
     },
     "execution_count": 8,
     "metadata": {},
     "output_type": "execute_result"
    }
   ],
   "source": [
    "import sys\n",
    "\n",
    "sys.platform"
   ]
  },
  {
   "cell_type": "code",
   "execution_count": 9,
   "metadata": {},
   "outputs": [
    {
     "name": "stdout",
     "output_type": "stream",
     "text": [
      "\u001b[H\u001b[2Jcommand success\n"
     ]
    }
   ],
   "source": [
    "if sys.platform == \"win32\":\n",
    "    output = os.system('cls')\n",
    "else:\n",
    "    output = os.system('clear')\n",
    "\n",
    "if output == 0:\n",
    "    print('command success')\n",
    "else:\n",
    "    print('issue with command')"
   ]
  },
  {
   "cell_type": "markdown",
   "metadata": {},
   "source": [
    "## Subprocess"
   ]
  },
  {
   "cell_type": "code",
   "execution_count": 10,
   "metadata": {},
   "outputs": [
    {
     "name": "stdout",
     "output_type": "stream",
     "text": [
      "Help on module subprocess:\n",
      "\n",
      "NAME\n",
      "    subprocess - Subprocesses with accessible I/O streams\n",
      "\n",
      "MODULE REFERENCE\n",
      "    https://docs.python.org/3.12/library/subprocess.html\n",
      "\n",
      "    The following documentation is automatically generated from the Python\n",
      "    source files.  It may be incomplete, incorrect or include features that\n",
      "    are considered implementation detail and may vary between Python\n",
      "    implementations.  When in doubt, consult the module reference at the\n",
      "    location listed above.\n",
      "\n",
      "DESCRIPTION\n",
      "    This module allows you to spawn processes, connect to their\n",
      "    input/output/error pipes, and obtain their return codes.\n",
      "\n",
      "    For a complete description of this module see the Python documentation.\n",
      "\n",
      "    Main API\n",
      "    ========\n",
      "    run(...): Runs a command, waits for it to complete, then returns a\n",
      "              CompletedProcess instance.\n",
      "    Popen(...): A class for flexibly executing a command in a new process\n",
      "\n",
      "    Constants\n",
      "    ---------\n",
      "    DEVNULL: Special value that indicates that os.devnull should be used\n",
      "    PIPE:    Special value that indicates a pipe should be created\n",
      "    STDOUT:  Special value that indicates that stderr should go to stdout\n",
      "\n",
      "\n",
      "    Older API\n",
      "    =========\n",
      "    call(...): Runs a command, waits for it to complete, then returns\n",
      "        the return code.\n",
      "    check_call(...): Same as call() but raises CalledProcessError()\n",
      "        if return code is not 0\n",
      "    check_output(...): Same as check_call() but returns the contents of\n",
      "        stdout instead of a return code\n",
      "    getoutput(...): Runs a command in the shell, waits for it to complete,\n",
      "        then returns the output\n",
      "    getstatusoutput(...): Runs a command in the shell, waits for it to complete,\n",
      "        then returns a (exitcode, output) tuple\n",
      "\n",
      "CLASSES\n",
      "    builtins.Exception(builtins.BaseException)\n",
      "        SubprocessError\n",
      "            CalledProcessError\n",
      "            TimeoutExpired\n",
      "    builtins.object\n",
      "        CompletedProcess\n",
      "        Popen\n",
      "\n",
      "    class CalledProcessError(SubprocessError)\n",
      "     |  CalledProcessError(returncode, cmd, output=None, stderr=None)\n",
      "     |\n",
      "     |  Raised when run() is called with check=True and the process\n",
      "     |  returns a non-zero exit status.\n",
      "     |\n",
      "     |  Attributes:\n",
      "     |    cmd, returncode, stdout, stderr, output\n",
      "     |\n",
      "     |  Method resolution order:\n",
      "     |      CalledProcessError\n",
      "     |      SubprocessError\n",
      "     |      builtins.Exception\n",
      "     |      builtins.BaseException\n",
      "     |      builtins.object\n",
      "     |\n",
      "     |  Methods defined here:\n",
      "     |\n",
      "     |  __init__(self, returncode, cmd, output=None, stderr=None)\n",
      "     |      Initialize self.  See help(type(self)) for accurate signature.\n",
      "     |\n",
      "     |  __str__(self)\n",
      "     |      Return str(self).\n",
      "     |\n",
      "     |  ----------------------------------------------------------------------\n",
      "     |  Data descriptors defined here:\n",
      "     |\n",
      "     |  stdout\n",
      "     |      Alias for output attribute, to match stderr\n",
      "     |\n",
      "     |  ----------------------------------------------------------------------\n",
      "     |  Data descriptors inherited from SubprocessError:\n",
      "     |\n",
      "     |  __weakref__\n",
      "     |      list of weak references to the object\n",
      "     |\n",
      "     |  ----------------------------------------------------------------------\n",
      "     |  Static methods inherited from builtins.Exception:\n",
      "     |\n",
      "     |  __new__(*args, **kwargs) from builtins.type\n",
      "     |      Create and return a new object.  See help(type) for accurate signature.\n",
      "     |\n",
      "     |  ----------------------------------------------------------------------\n",
      "     |  Methods inherited from builtins.BaseException:\n",
      "     |\n",
      "     |  __delattr__(self, name, /)\n",
      "     |      Implement delattr(self, name).\n",
      "     |\n",
      "     |  __getattribute__(self, name, /)\n",
      "     |      Return getattr(self, name).\n",
      "     |\n",
      "     |  __reduce__(...)\n",
      "     |      Helper for pickle.\n",
      "     |\n",
      "     |  __repr__(self, /)\n",
      "     |      Return repr(self).\n",
      "     |\n",
      "     |  __setattr__(self, name, value, /)\n",
      "     |      Implement setattr(self, name, value).\n",
      "     |\n",
      "     |  __setstate__(...)\n",
      "     |\n",
      "     |  add_note(...)\n",
      "     |      Exception.add_note(note) --\n",
      "     |      add a note to the exception\n",
      "     |\n",
      "     |  with_traceback(...)\n",
      "     |      Exception.with_traceback(tb) --\n",
      "     |      set self.__traceback__ to tb and return self.\n",
      "     |\n",
      "     |  ----------------------------------------------------------------------\n",
      "     |  Data descriptors inherited from builtins.BaseException:\n",
      "     |\n",
      "     |  __cause__\n",
      "     |      exception cause\n",
      "     |\n",
      "     |  __context__\n",
      "     |      exception context\n",
      "     |\n",
      "     |  __dict__\n",
      "     |\n",
      "     |  __suppress_context__\n",
      "     |\n",
      "     |  __traceback__\n",
      "     |\n",
      "     |  args\n",
      "\n",
      "    class CompletedProcess(builtins.object)\n",
      "     |  CompletedProcess(args, returncode, stdout=None, stderr=None)\n",
      "     |\n",
      "     |  A process that has finished running.\n",
      "     |\n",
      "     |  This is returned by run().\n",
      "     |\n",
      "     |  Attributes:\n",
      "     |    args: The list or str args passed to run().\n",
      "     |    returncode: The exit code of the process, negative for signals.\n",
      "     |    stdout: The standard output (None if not captured).\n",
      "     |    stderr: The standard error (None if not captured).\n",
      "     |\n",
      "     |  Methods defined here:\n",
      "     |\n",
      "     |  __init__(self, args, returncode, stdout=None, stderr=None)\n",
      "     |      Initialize self.  See help(type(self)) for accurate signature.\n",
      "     |\n",
      "     |  __repr__(self)\n",
      "     |      Return repr(self).\n",
      "     |\n",
      "     |  check_returncode(self)\n",
      "     |      Raise CalledProcessError if the exit code is non-zero.\n",
      "     |\n",
      "     |  ----------------------------------------------------------------------\n",
      "     |  Class methods defined here:\n",
      "     |\n",
      "     |  __class_getitem__ = GenericAlias(...) from builtins.type\n",
      "     |      Represent a PEP 585 generic type\n",
      "     |\n",
      "     |      E.g. for t = list[int], t.__origin__ is list and t.__args__ is (int,).\n",
      "     |\n",
      "     |  ----------------------------------------------------------------------\n",
      "     |  Data descriptors defined here:\n",
      "     |\n",
      "     |  __dict__\n",
      "     |      dictionary for instance variables\n",
      "     |\n",
      "     |  __weakref__\n",
      "     |      list of weak references to the object\n",
      "\n",
      "    class Popen(builtins.object)\n",
      "     |  Popen(args, bufsize=-1, executable=None, stdin=None, stdout=None, stderr=None, preexec_fn=None, close_fds=True, shell=False, cwd=None, env=None, universal_newlines=None, startupinfo=None, creationflags=0, restore_signals=True, start_new_session=False, pass_fds=(), *, user=None, group=None, extra_groups=None, encoding=None, errors=None, text=None, umask=-1, pipesize=-1, process_group=None)\n",
      "     |\n",
      "     |  Execute a child program in a new process.\n",
      "     |\n",
      "     |  For a complete description of the arguments see the Python documentation.\n",
      "     |\n",
      "     |  Arguments:\n",
      "     |    args: A string, or a sequence of program arguments.\n",
      "     |\n",
      "     |    bufsize: supplied as the buffering argument to the open() function when\n",
      "     |        creating the stdin/stdout/stderr pipe file objects\n",
      "     |\n",
      "     |    executable: A replacement program to execute.\n",
      "     |\n",
      "     |    stdin, stdout and stderr: These specify the executed programs' standard\n",
      "     |        input, standard output and standard error file handles, respectively.\n",
      "     |\n",
      "     |    preexec_fn: (POSIX only) An object to be called in the child process\n",
      "     |        just before the child is executed.\n",
      "     |\n",
      "     |    close_fds: Controls closing or inheriting of file descriptors.\n",
      "     |\n",
      "     |    shell: If true, the command will be executed through the shell.\n",
      "     |\n",
      "     |    cwd: Sets the current directory before the child is executed.\n",
      "     |\n",
      "     |    env: Defines the environment variables for the new process.\n",
      "     |\n",
      "     |    text: If true, decode stdin, stdout and stderr using the given encoding\n",
      "     |        (if set) or the system default otherwise.\n",
      "     |\n",
      "     |    universal_newlines: Alias of text, provided for backwards compatibility.\n",
      "     |\n",
      "     |    startupinfo and creationflags (Windows only)\n",
      "     |\n",
      "     |    restore_signals (POSIX only)\n",
      "     |\n",
      "     |    start_new_session (POSIX only)\n",
      "     |\n",
      "     |    process_group (POSIX only)\n",
      "     |\n",
      "     |    group (POSIX only)\n",
      "     |\n",
      "     |    extra_groups (POSIX only)\n",
      "     |\n",
      "     |    user (POSIX only)\n",
      "     |\n",
      "     |    umask (POSIX only)\n",
      "     |\n",
      "     |    pass_fds (POSIX only)\n",
      "     |\n",
      "     |    encoding and errors: Text mode encoding and error handling to use for\n",
      "     |        file objects stdin, stdout and stderr.\n",
      "     |\n",
      "     |  Attributes:\n",
      "     |      stdin, stdout, stderr, pid, returncode\n",
      "     |\n",
      "     |  Methods defined here:\n",
      "     |\n",
      "     |  __del__(self, _maxsize=9223372036854775807, _warn=<built-in function warn>)\n",
      "     |\n",
      "     |  __enter__(self)\n",
      "     |\n",
      "     |  __exit__(self, exc_type, value, traceback)\n",
      "     |\n",
      "     |  __init__(self, args, bufsize=-1, executable=None, stdin=None, stdout=None, stderr=None, preexec_fn=None, close_fds=True, shell=False, cwd=None, env=None, universal_newlines=None, startupinfo=None, creationflags=0, restore_signals=True, start_new_session=False, pass_fds=(), *, user=None, group=None, extra_groups=None, encoding=None, errors=None, text=None, umask=-1, pipesize=-1, process_group=None)\n",
      "     |      Create new Popen instance.\n",
      "     |\n",
      "     |  __repr__(self)\n",
      "     |      Return repr(self).\n",
      "     |\n",
      "     |  communicate(self, input=None, timeout=None)\n",
      "     |      Interact with process: Send data to stdin and close it.\n",
      "     |      Read data from stdout and stderr, until end-of-file is\n",
      "     |      reached.  Wait for process to terminate.\n",
      "     |\n",
      "     |      The optional \"input\" argument should be data to be sent to the\n",
      "     |      child process, or None, if no data should be sent to the child.\n",
      "     |      communicate() returns a tuple (stdout, stderr).\n",
      "     |\n",
      "     |      By default, all communication is in bytes, and therefore any\n",
      "     |      \"input\" should be bytes, and the (stdout, stderr) will be bytes.\n",
      "     |      If in text mode (indicated by self.text_mode), any \"input\" should\n",
      "     |      be a string, and (stdout, stderr) will be strings decoded\n",
      "     |      according to locale encoding, or by \"encoding\" if set. Text mode\n",
      "     |      is triggered by setting any of text, encoding, errors or\n",
      "     |      universal_newlines.\n",
      "     |\n",
      "     |  kill(self)\n",
      "     |      Kill the process with SIGKILL\n",
      "     |\n",
      "     |  poll(self)\n",
      "     |      Check if child process has terminated. Set and return returncode\n",
      "     |      attribute.\n",
      "     |\n",
      "     |  send_signal(self, sig)\n",
      "     |      Send a signal to the process.\n",
      "     |\n",
      "     |  terminate(self)\n",
      "     |      Terminate the process with SIGTERM\n",
      "     |\n",
      "     |  wait(self, timeout=None)\n",
      "     |      Wait for child process to terminate; returns self.returncode.\n",
      "     |\n",
      "     |  ----------------------------------------------------------------------\n",
      "     |  Class methods defined here:\n",
      "     |\n",
      "     |  __class_getitem__ = GenericAlias(...) from builtins.type\n",
      "     |      Represent a PEP 585 generic type\n",
      "     |\n",
      "     |      E.g. for t = list[int], t.__origin__ is list and t.__args__ is (int,).\n",
      "     |\n",
      "     |  ----------------------------------------------------------------------\n",
      "     |  Data descriptors defined here:\n",
      "     |\n",
      "     |  __dict__\n",
      "     |      dictionary for instance variables\n",
      "     |\n",
      "     |  __weakref__\n",
      "     |      list of weak references to the object\n",
      "     |\n",
      "     |  universal_newlines\n",
      "\n",
      "    class SubprocessError(builtins.Exception)\n",
      "     |  # Exception classes used by this module.\n",
      "     |\n",
      "     |  Method resolution order:\n",
      "     |      SubprocessError\n",
      "     |      builtins.Exception\n",
      "     |      builtins.BaseException\n",
      "     |      builtins.object\n",
      "     |\n",
      "     |  Data descriptors defined here:\n",
      "     |\n",
      "     |  __weakref__\n",
      "     |      list of weak references to the object\n",
      "     |\n",
      "     |  ----------------------------------------------------------------------\n",
      "     |  Methods inherited from builtins.Exception:\n",
      "     |\n",
      "     |  __init__(self, /, *args, **kwargs)\n",
      "     |      Initialize self.  See help(type(self)) for accurate signature.\n",
      "     |\n",
      "     |  ----------------------------------------------------------------------\n",
      "     |  Static methods inherited from builtins.Exception:\n",
      "     |\n",
      "     |  __new__(*args, **kwargs) from builtins.type\n",
      "     |      Create and return a new object.  See help(type) for accurate signature.\n",
      "     |\n",
      "     |  ----------------------------------------------------------------------\n",
      "     |  Methods inherited from builtins.BaseException:\n",
      "     |\n",
      "     |  __delattr__(self, name, /)\n",
      "     |      Implement delattr(self, name).\n",
      "     |\n",
      "     |  __getattribute__(self, name, /)\n",
      "     |      Return getattr(self, name).\n",
      "     |\n",
      "     |  __reduce__(...)\n",
      "     |      Helper for pickle.\n",
      "     |\n",
      "     |  __repr__(self, /)\n",
      "     |      Return repr(self).\n",
      "     |\n",
      "     |  __setattr__(self, name, value, /)\n",
      "     |      Implement setattr(self, name, value).\n",
      "     |\n",
      "     |  __setstate__(...)\n",
      "     |\n",
      "     |  __str__(self, /)\n",
      "     |      Return str(self).\n",
      "     |\n",
      "     |  add_note(...)\n",
      "     |      Exception.add_note(note) --\n",
      "     |      add a note to the exception\n",
      "     |\n",
      "     |  with_traceback(...)\n",
      "     |      Exception.with_traceback(tb) --\n",
      "     |      set self.__traceback__ to tb and return self.\n",
      "     |\n",
      "     |  ----------------------------------------------------------------------\n",
      "     |  Data descriptors inherited from builtins.BaseException:\n",
      "     |\n",
      "     |  __cause__\n",
      "     |      exception cause\n",
      "     |\n",
      "     |  __context__\n",
      "     |      exception context\n",
      "     |\n",
      "     |  __dict__\n",
      "     |\n",
      "     |  __suppress_context__\n",
      "     |\n",
      "     |  __traceback__\n",
      "     |\n",
      "     |  args\n",
      "\n",
      "    class TimeoutExpired(SubprocessError)\n",
      "     |  TimeoutExpired(cmd, timeout, output=None, stderr=None)\n",
      "     |\n",
      "     |  This exception is raised when the timeout expires while waiting for a\n",
      "     |  child process.\n",
      "     |\n",
      "     |  Attributes:\n",
      "     |      cmd, output, stdout, stderr, timeout\n",
      "     |\n",
      "     |  Method resolution order:\n",
      "     |      TimeoutExpired\n",
      "     |      SubprocessError\n",
      "     |      builtins.Exception\n",
      "     |      builtins.BaseException\n",
      "     |      builtins.object\n",
      "     |\n",
      "     |  Methods defined here:\n",
      "     |\n",
      "     |  __init__(self, cmd, timeout, output=None, stderr=None)\n",
      "     |      Initialize self.  See help(type(self)) for accurate signature.\n",
      "     |\n",
      "     |  __str__(self)\n",
      "     |      Return str(self).\n",
      "     |\n",
      "     |  ----------------------------------------------------------------------\n",
      "     |  Data descriptors defined here:\n",
      "     |\n",
      "     |  stdout\n",
      "     |\n",
      "     |  ----------------------------------------------------------------------\n",
      "     |  Data descriptors inherited from SubprocessError:\n",
      "     |\n",
      "     |  __weakref__\n",
      "     |      list of weak references to the object\n",
      "     |\n",
      "     |  ----------------------------------------------------------------------\n",
      "     |  Static methods inherited from builtins.Exception:\n",
      "     |\n",
      "     |  __new__(*args, **kwargs) from builtins.type\n",
      "     |      Create and return a new object.  See help(type) for accurate signature.\n",
      "     |\n",
      "     |  ----------------------------------------------------------------------\n",
      "     |  Methods inherited from builtins.BaseException:\n",
      "     |\n",
      "     |  __delattr__(self, name, /)\n",
      "     |      Implement delattr(self, name).\n",
      "     |\n",
      "     |  __getattribute__(self, name, /)\n",
      "     |      Return getattr(self, name).\n",
      "     |\n",
      "     |  __reduce__(...)\n",
      "     |      Helper for pickle.\n",
      "     |\n",
      "     |  __repr__(self, /)\n",
      "     |      Return repr(self).\n",
      "     |\n",
      "     |  __setattr__(self, name, value, /)\n",
      "     |      Implement setattr(self, name, value).\n",
      "     |\n",
      "     |  __setstate__(...)\n",
      "     |\n",
      "     |  add_note(...)\n",
      "     |      Exception.add_note(note) --\n",
      "     |      add a note to the exception\n",
      "     |\n",
      "     |  with_traceback(...)\n",
      "     |      Exception.with_traceback(tb) --\n",
      "     |      set self.__traceback__ to tb and return self.\n",
      "     |\n",
      "     |  ----------------------------------------------------------------------\n",
      "     |  Data descriptors inherited from builtins.BaseException:\n",
      "     |\n",
      "     |  __cause__\n",
      "     |      exception cause\n",
      "     |\n",
      "     |  __context__\n",
      "     |      exception context\n",
      "     |\n",
      "     |  __dict__\n",
      "     |\n",
      "     |  __suppress_context__\n",
      "     |\n",
      "     |  __traceback__\n",
      "     |\n",
      "     |  args\n",
      "\n",
      "FUNCTIONS\n",
      "    call(*popenargs, timeout=None, **kwargs)\n",
      "        Run command with arguments.  Wait for command to complete or\n",
      "        timeout, then return the returncode attribute.\n",
      "\n",
      "        The arguments are the same as for the Popen constructor.  Example:\n",
      "\n",
      "        retcode = call([\"ls\", \"-l\"])\n",
      "\n",
      "    check_call(*popenargs, **kwargs)\n",
      "        Run command with arguments.  Wait for command to complete.  If\n",
      "        the exit code was zero then return, otherwise raise\n",
      "        CalledProcessError.  The CalledProcessError object will have the\n",
      "        return code in the returncode attribute.\n",
      "\n",
      "        The arguments are the same as for the call function.  Example:\n",
      "\n",
      "        check_call([\"ls\", \"-l\"])\n",
      "\n",
      "    check_output(*popenargs, timeout=None, **kwargs)\n",
      "        Run command with arguments and return its output.\n",
      "\n",
      "        If the exit code was non-zero it raises a CalledProcessError.  The\n",
      "        CalledProcessError object will have the return code in the returncode\n",
      "        attribute and output in the output attribute.\n",
      "\n",
      "        The arguments are the same as for the Popen constructor.  Example:\n",
      "\n",
      "        >>> check_output([\"ls\", \"-l\", \"/dev/null\"])\n",
      "        b'crw-rw-rw- 1 root root 1, 3 Oct 18  2007 /dev/null\\n'\n",
      "\n",
      "        The stdout argument is not allowed as it is used internally.\n",
      "        To capture standard error in the result, use stderr=STDOUT.\n",
      "\n",
      "        >>> check_output([\"/bin/sh\", \"-c\",\n",
      "        ...               \"ls -l non_existent_file ; exit 0\"],\n",
      "        ...              stderr=STDOUT)\n",
      "        b'ls: non_existent_file: No such file or directory\\n'\n",
      "\n",
      "        There is an additional optional argument, \"input\", allowing you to\n",
      "        pass a string to the subprocess's stdin.  If you use this argument\n",
      "        you may not also use the Popen constructor's \"stdin\" argument, as\n",
      "        it too will be used internally.  Example:\n",
      "\n",
      "        >>> check_output([\"sed\", \"-e\", \"s/foo/bar/\"],\n",
      "        ...              input=b\"when in the course of fooman events\\n\")\n",
      "        b'when in the course of barman events\\n'\n",
      "\n",
      "        By default, all communication is in bytes, and therefore any \"input\"\n",
      "        should be bytes, and the return value will be bytes.  If in text mode,\n",
      "        any \"input\" should be a string, and the return value will be a string\n",
      "        decoded according to locale encoding, or by \"encoding\" if set. Text mode\n",
      "        is triggered by setting any of text, encoding, errors or universal_newlines.\n",
      "\n",
      "    getoutput(cmd, *, encoding=None, errors=None)\n",
      "        Return output (stdout or stderr) of executing cmd in a shell.\n",
      "\n",
      "        Like getstatusoutput(), except the exit status is ignored and the return\n",
      "        value is a string containing the command's output.  Example:\n",
      "\n",
      "        >>> import subprocess\n",
      "        >>> subprocess.getoutput('ls /bin/ls')\n",
      "        '/bin/ls'\n",
      "\n",
      "    getstatusoutput(cmd, *, encoding=None, errors=None)\n",
      "        Return (exitcode, output) of executing cmd in a shell.\n",
      "\n",
      "        Execute the string 'cmd' in a shell with 'check_output' and\n",
      "        return a 2-tuple (status, output). The locale encoding is used\n",
      "        to decode the output and process newlines.\n",
      "\n",
      "        A trailing newline is stripped from the output.\n",
      "        The exit status for the command can be interpreted\n",
      "        according to the rules for the function 'wait'. Example:\n",
      "\n",
      "        >>> import subprocess\n",
      "        >>> subprocess.getstatusoutput('ls /bin/ls')\n",
      "        (0, '/bin/ls')\n",
      "        >>> subprocess.getstatusoutput('cat /bin/junk')\n",
      "        (1, 'cat: /bin/junk: No such file or directory')\n",
      "        >>> subprocess.getstatusoutput('/bin/junk')\n",
      "        (127, 'sh: /bin/junk: not found')\n",
      "        >>> subprocess.getstatusoutput('/bin/kill $$')\n",
      "        (-15, '')\n",
      "\n",
      "    run(*popenargs, input=None, capture_output=False, timeout=None, check=False, **kwargs)\n",
      "        Run command with arguments and return a CompletedProcess instance.\n",
      "\n",
      "        The returned instance will have attributes args, returncode, stdout and\n",
      "        stderr. By default, stdout and stderr are not captured, and those attributes\n",
      "        will be None. Pass stdout=PIPE and/or stderr=PIPE in order to capture them,\n",
      "        or pass capture_output=True to capture both.\n",
      "\n",
      "        If check is True and the exit code was non-zero, it raises a\n",
      "        CalledProcessError. The CalledProcessError object will have the return code\n",
      "        in the returncode attribute, and output & stderr attributes if those streams\n",
      "        were captured.\n",
      "\n",
      "        If timeout is given, and the process takes too long, a TimeoutExpired\n",
      "        exception will be raised.\n",
      "\n",
      "        There is an optional argument \"input\", allowing you to\n",
      "        pass bytes or a string to the subprocess's stdin.  If you use this argument\n",
      "        you may not also use the Popen constructor's \"stdin\" argument, as\n",
      "        it will be used internally.\n",
      "\n",
      "        By default, all communication is in bytes, and therefore any \"input\" should\n",
      "        be bytes, and the stdout and stderr will be bytes. If in text mode, any\n",
      "        \"input\" should be a string, and stdout and stderr will be strings decoded\n",
      "        according to locale encoding, or by \"encoding\" if set. Text mode is\n",
      "        triggered by setting any of text, encoding, errors or universal_newlines.\n",
      "\n",
      "        The other arguments are the same as for the Popen constructor.\n",
      "\n",
      "DATA\n",
      "    DEVNULL = -3\n",
      "    PIPE = -1\n",
      "    STDOUT = -2\n",
      "    __all__ = ['Popen', 'PIPE', 'STDOUT', 'call', 'check_call', 'getstatus...\n",
      "\n",
      "FILE\n",
      "    /usr/local/python/3.12.1/lib/python3.12/subprocess.py\n",
      "\n",
      "\n"
     ]
    }
   ],
   "source": [
    "import subprocess\n",
    "\n",
    "help(subprocess)"
   ]
  },
  {
   "cell_type": "code",
   "execution_count": 11,
   "metadata": {},
   "outputs": [
    {
     "data": {
      "text/plain": [
       "['CalledProcessError',\n",
       " 'CompletedProcess',\n",
       " 'DEVNULL',\n",
       " 'PIPE',\n",
       " 'Popen',\n",
       " 'STDOUT',\n",
       " 'SubprocessError',\n",
       " 'TimeoutExpired',\n",
       " '_PIPE_BUF',\n",
       " '_PopenSelector',\n",
       " '_USE_POSIX_SPAWN',\n",
       " '_USE_VFORK',\n",
       " '_WIFSTOPPED',\n",
       " '_WNOHANG',\n",
       " '_WSTOPSIG',\n",
       " '__all__',\n",
       " '__builtins__',\n",
       " '__cached__',\n",
       " '__doc__',\n",
       " '__file__',\n",
       " '__loader__',\n",
       " '__name__',\n",
       " '__package__',\n",
       " '__spec__',\n",
       " '_active',\n",
       " '_args_from_interpreter_flags',\n",
       " '_can_fork_exec',\n",
       " '_cleanup',\n",
       " '_fork_exec',\n",
       " '_mswindows',\n",
       " '_optim_args_from_interpreter_flags',\n",
       " '_text_encoding',\n",
       " '_time',\n",
       " '_use_posix_spawn',\n",
       " '_waitpid',\n",
       " '_waitstatus_to_exitcode',\n",
       " 'builtins',\n",
       " 'call',\n",
       " 'check_call',\n",
       " 'check_output',\n",
       " 'contextlib',\n",
       " 'errno',\n",
       " 'fcntl',\n",
       " 'getoutput',\n",
       " 'getstatusoutput',\n",
       " 'io',\n",
       " 'list2cmdline',\n",
       " 'locale',\n",
       " 'os',\n",
       " 'run',\n",
       " 'select',\n",
       " 'selectors',\n",
       " 'signal',\n",
       " 'sys',\n",
       " 'threading',\n",
       " 'time',\n",
       " 'types',\n",
       " 'warnings']"
      ]
     },
     "execution_count": 11,
     "metadata": {},
     "output_type": "execute_result"
    }
   ],
   "source": [
    "dir(subprocess)"
   ]
  },
  {
   "cell_type": "code",
   "execution_count": 12,
   "metadata": {},
   "outputs": [
    {
     "name": "stdout",
     "output_type": "stream",
     "text": [
      "total 84\n",
      "-rw-rw-rw- 1 codespace codespace    41 Oct 21 20:58 mytestfile.txt\n",
      "-rw-rw-rw- 1 codespace codespace 30400 Oct 21 20:59 os_module.ipynb\n",
      "-rw-rw-rw- 1 codespace codespace   690 Oct 21 21:07 03_clear_screen.py\n",
      "-rw-rw-rw- 1 codespace codespace 41080 Oct 21 21:09 b_subprocess.ipynb\n"
     ]
    },
    {
     "data": {
      "text/plain": [
       "0"
      ]
     },
     "execution_count": 12,
     "metadata": {},
     "output_type": "execute_result"
    }
   ],
   "source": [
    "os.system('ls -ltr')"
   ]
  },
  {
   "cell_type": "code",
   "execution_count": 19,
   "metadata": {},
   "outputs": [
    {
     "name": "stdout",
     "output_type": "stream",
     "text": [
      "errror is  [Errno 2] No such file or directory: 'ls -l'\n"
     ]
    }
   ],
   "source": [
    "try:\n",
    "    subprocess.check_call('ls -l')\n",
    "except FileNotFoundError as ex:\n",
    "    print('errror is ', ex)"
   ]
  },
  {
   "cell_type": "code",
   "execution_count": 15,
   "metadata": {},
   "outputs": [
    {
     "data": {
      "text/plain": [
       "['ls', '-l']"
      ]
     },
     "execution_count": 15,
     "metadata": {},
     "output_type": "execute_result"
    }
   ],
   "source": [
    "'ls -l'.split()"
   ]
  },
  {
   "cell_type": "code",
   "execution_count": 16,
   "metadata": {},
   "outputs": [
    {
     "name": "stdout",
     "output_type": "stream",
     "text": [
      "total 92\n",
      "-rw-rw-rw- 1 codespace codespace   690 Oct 21 21:07 03_clear_screen.py\n",
      "-rw-rw-rw- 1 codespace codespace 50752 Oct 21 21:11 b_subprocess.ipynb\n",
      "-rw-rw-rw- 1 codespace codespace    41 Oct 21 20:58 mytestfile.txt\n",
      "-rw-rw-rw- 1 codespace codespace 30400 Oct 21 20:59 os_module.ipynb\n"
     ]
    },
    {
     "data": {
      "text/plain": [
       "0"
      ]
     },
     "execution_count": 16,
     "metadata": {},
     "output_type": "execute_result"
    }
   ],
   "source": [
    "subprocess.check_call('ls -l'.split())"
   ]
  },
  {
   "cell_type": "code",
   "execution_count": 17,
   "metadata": {},
   "outputs": [
    {
     "name": "stdout",
     "output_type": "stream",
     "text": [
      "UID          PID    PPID  C STIME TTY          TIME CMD\n",
      "codespa+       1       0  0 20:35 ?        00:00:00 /sbin/docker-init -- /bin/sh -c echo Container started trap \"exit 0\" 15 /usr/local/share/ssh-init.sh /usr/local/share/docker-init.sh exec \"$@\" while sleep 1 & wait $!; do :; done - /usr/local/share/docker-init.sh /usr/local/share/ssh-init.sh sleep infinity\n",
      "codespa+       8       1  0 20:35 ?        00:00:00 sleep infinity\n",
      "root          36       1  0 20:35 ?        00:00:00 sshd: /usr/sbin/sshd [listener] 0 of 10-100 startups\n",
      "codespa+     409       0  0 20:35 ?        00:00:00 /bin/sh\n",
      "root         446       0  0 20:35 ?        00:00:00 /bin/sh\n",
      "codespa+     599       0  0 20:35 ?        00:00:00 sh /home/codespace/.vscode-remote/bin/384ff7382de624fb94dbaf6da11977bba1ecd427/bin/code-server --log trace --force-disable-user-env --server-data-dir /home/codespace/.vscode-remote --accept-server-license-terms --host 127.0.0.1 --port 0 --connection-token-file /home/codespace/.vscode-remote/data/Machine/.connection-token-384ff7382de624fb94dbaf6da11977bba1ecd427 --extensions-download-dir /home/codespace/.vscode-remote/extensionsCache --start-server  --enable-remote-auto-shutdown --skip-requirements-check\n",
      "codespa+     609     599  0 20:35 ?        00:00:07 /vscode/bin/linux-x64/384ff7382de624fb94dbaf6da11977bba1ecd427/node /vscode/bin/linux-x64/384ff7382de624fb94dbaf6da11977bba1ecd427/out/server-main.js --log trace --force-disable-user-env --server-data-dir /home/codespace/.vscode-remote --accept-server-license-terms --host 127.0.0.1 --port 0 --connection-token-file /home/codespace/.vscode-remote/data/Machine/.connection-token-384ff7382de624fb94dbaf6da11977bba1ecd427 --extensions-download-dir /home/codespace/.vscode-remote/extensionsCache --start-server  --enable-remote-auto-shutdown --skip-requirements-check\n",
      "codespa+     630     609  6 20:35 ?        00:02:20 /vscode/bin/linux-x64/384ff7382de624fb94dbaf6da11977bba1ecd427/node --dns-result-order=ipv4first /vscode/bin/linux-x64/384ff7382de624fb94dbaf6da11977bba1ecd427/out/bootstrap-fork --type=extensionHost --transformURIs --useHostProxy=false\n",
      "codespa+     642     609  0 20:35 ?        00:00:06 /vscode/bin/linux-x64/384ff7382de624fb94dbaf6da11977bba1ecd427/node /vscode/bin/linux-x64/384ff7382de624fb94dbaf6da11977bba1ecd427/out/bootstrap-fork --type=fileWatcher\n",
      "codespa+    1089     630  0 20:35 ?        00:00:00 /vscode/bin/linux-x64/384ff7382de624fb94dbaf6da11977bba1ecd427/node /vscode/bin/linux-x64/384ff7382de624fb94dbaf6da11977bba1ecd427/extensions/markdown-language-features/dist/serverWorkerMain --node-ipc --clientProcessId=630\n",
      "codespa+    1119     609  0 20:35 ?        00:00:02 /vscode/bin/linux-x64/384ff7382de624fb94dbaf6da11977bba1ecd427/node /vscode/bin/linux-x64/384ff7382de624fb94dbaf6da11977bba1ecd427/out/bootstrap-fork --type=ptyHost --logsPath /home/codespace/.vscode-remote/data/logs/20241021T203516\n",
      "codespa+    1169    1119  0 20:35 pts/0    00:00:00 /bin/bash --init-file /vscode/bin/linux-x64/384ff7382de624fb94dbaf6da11977bba1ecd427/out/vs/workbench/contrib/terminal/common/scripts/shellIntegration-bash.sh\n",
      "codespa+    1628     630  0 20:35 ?        00:00:00 /home/codespace/.vscode-remote/extensions/ms-python.python-2024.16.1-linux-x64/python-env-tools/bin/pet server\n",
      "codespa+    1878    1119  0 20:35 pts/1    00:00:00 /bin/bash --init-file /vscode/bin/linux-x64/384ff7382de624fb94dbaf6da11977bba1ecd427/out/vs/workbench/contrib/terminal/common/scripts/shellIntegration-bash.sh\n",
      "codespa+    2283     630  4 20:35 ?        00:01:39 /vscode/bin/linux-x64/384ff7382de624fb94dbaf6da11977bba1ecd427/node /home/codespace/.vscode-remote/extensions/ms-python.vscode-pylance-2024.10.1/dist/server.bundle.js --cancellationReceive=file:a24fc550f5aa3370718864ab6a33705efdfdd9c971 --node-ipc --clientProcessId=630\n",
      "codespa+    2289       0  0 20:35 ?        00:00:00 /bin/sh\n",
      "root        2330       0  0 20:35 ?        00:00:00 /bin/sh\n",
      "root        2749       1  0 20:35 ?        00:00:00 dockerd --dns 168.63.129.16\n",
      "root        2756    2749  0 20:35 ?        00:00:00 containerd --config /var/run/docker/containerd/containerd.toml\n",
      "codespa+    3744     630  0 20:38 ?        00:00:00 /vscode/bin/linux-x64/384ff7382de624fb94dbaf6da11977bba1ecd427/node /vscode/bin/linux-x64/384ff7382de624fb94dbaf6da11977bba1ecd427/extensions/json-language-features/server/dist/node/jsonServerMain --node-ipc --clientProcessId=630\n",
      "codespa+    4274     630  1 20:39 ?        00:00:28 /home/codespace/.python/current/bin/python -m ipykernel_launcher --f=/home/codespace/.local/share/jupyter/runtime/kernel-v3a865c785d0939ce805158a31bb1df77f36e0f41a.json\n",
      "codespa+   16581     630  0 21:00 ?        00:00:02 /home/codespace/.python/current/bin/python -m ipykernel_launcher --f=/home/codespace/.local/share/jupyter/runtime/kernel-v38fb7d4e7d2d9797edeced546742baad474f5ba45.json\n",
      "codespa+   21419   16581  0 21:11 ?        00:00:00 ps -ef\n"
     ]
    },
    {
     "data": {
      "text/plain": [
       "0"
      ]
     },
     "execution_count": 17,
     "metadata": {},
     "output_type": "execute_result"
    }
   ],
   "source": [
    "subprocess.check_call('ps -ef '.split())"
   ]
  },
  {
   "cell_type": "code",
   "execution_count": 21,
   "metadata": {},
   "outputs": [
    {
     "name": "stdout",
     "output_type": "stream",
     "text": [
      "error is  Command '['ps', '*ef']' returned non-zero exit status 1.\n"
     ]
    },
    {
     "name": "stderr",
     "output_type": "stream",
     "text": [
      "error: garbage option\n",
      "\n",
      "Usage:\n",
      " ps [options]\n",
      "\n",
      " Try 'ps --help <simple|list|output|threads|misc|all>'\n",
      "  or 'ps --help <s|l|o|t|m|a>'\n",
      " for additional help text.\n",
      "\n",
      "For more details see ps(1).\n"
     ]
    }
   ],
   "source": [
    "try:\n",
    "    subprocess.check_call('ps *ef '.split())\n",
    "except subprocess.CalledProcessError as ex:\n",
    "    print('error is ', ex)"
   ]
  },
  {
   "cell_type": "code",
   "execution_count": 22,
   "metadata": {},
   "outputs": [
    {
     "name": "stdout",
     "output_type": "stream",
     "text": [
      "\u001b[0;31mInit signature:\u001b[0m\n",
      "\u001b[0msubprocess\u001b[0m\u001b[0;34m.\u001b[0m\u001b[0mPopen\u001b[0m\u001b[0;34m(\u001b[0m\u001b[0;34m\u001b[0m\n",
      "\u001b[0;34m\u001b[0m    \u001b[0margs\u001b[0m\u001b[0;34m,\u001b[0m\u001b[0;34m\u001b[0m\n",
      "\u001b[0;34m\u001b[0m    \u001b[0mbufsize\u001b[0m\u001b[0;34m=\u001b[0m\u001b[0;34m-\u001b[0m\u001b[0;36m1\u001b[0m\u001b[0;34m,\u001b[0m\u001b[0;34m\u001b[0m\n",
      "\u001b[0;34m\u001b[0m    \u001b[0mexecutable\u001b[0m\u001b[0;34m=\u001b[0m\u001b[0;32mNone\u001b[0m\u001b[0;34m,\u001b[0m\u001b[0;34m\u001b[0m\n",
      "\u001b[0;34m\u001b[0m    \u001b[0mstdin\u001b[0m\u001b[0;34m=\u001b[0m\u001b[0;32mNone\u001b[0m\u001b[0;34m,\u001b[0m\u001b[0;34m\u001b[0m\n",
      "\u001b[0;34m\u001b[0m    \u001b[0mstdout\u001b[0m\u001b[0;34m=\u001b[0m\u001b[0;32mNone\u001b[0m\u001b[0;34m,\u001b[0m\u001b[0;34m\u001b[0m\n",
      "\u001b[0;34m\u001b[0m    \u001b[0mstderr\u001b[0m\u001b[0;34m=\u001b[0m\u001b[0;32mNone\u001b[0m\u001b[0;34m,\u001b[0m\u001b[0;34m\u001b[0m\n",
      "\u001b[0;34m\u001b[0m    \u001b[0mpreexec_fn\u001b[0m\u001b[0;34m=\u001b[0m\u001b[0;32mNone\u001b[0m\u001b[0;34m,\u001b[0m\u001b[0;34m\u001b[0m\n",
      "\u001b[0;34m\u001b[0m    \u001b[0mclose_fds\u001b[0m\u001b[0;34m=\u001b[0m\u001b[0;32mTrue\u001b[0m\u001b[0;34m,\u001b[0m\u001b[0;34m\u001b[0m\n",
      "\u001b[0;34m\u001b[0m    \u001b[0mshell\u001b[0m\u001b[0;34m=\u001b[0m\u001b[0;32mFalse\u001b[0m\u001b[0;34m,\u001b[0m\u001b[0;34m\u001b[0m\n",
      "\u001b[0;34m\u001b[0m    \u001b[0mcwd\u001b[0m\u001b[0;34m=\u001b[0m\u001b[0;32mNone\u001b[0m\u001b[0;34m,\u001b[0m\u001b[0;34m\u001b[0m\n",
      "\u001b[0;34m\u001b[0m    \u001b[0menv\u001b[0m\u001b[0;34m=\u001b[0m\u001b[0;32mNone\u001b[0m\u001b[0;34m,\u001b[0m\u001b[0;34m\u001b[0m\n",
      "\u001b[0;34m\u001b[0m    \u001b[0muniversal_newlines\u001b[0m\u001b[0;34m=\u001b[0m\u001b[0;32mNone\u001b[0m\u001b[0;34m,\u001b[0m\u001b[0;34m\u001b[0m\n",
      "\u001b[0;34m\u001b[0m    \u001b[0mstartupinfo\u001b[0m\u001b[0;34m=\u001b[0m\u001b[0;32mNone\u001b[0m\u001b[0;34m,\u001b[0m\u001b[0;34m\u001b[0m\n",
      "\u001b[0;34m\u001b[0m    \u001b[0mcreationflags\u001b[0m\u001b[0;34m=\u001b[0m\u001b[0;36m0\u001b[0m\u001b[0;34m,\u001b[0m\u001b[0;34m\u001b[0m\n",
      "\u001b[0;34m\u001b[0m    \u001b[0mrestore_signals\u001b[0m\u001b[0;34m=\u001b[0m\u001b[0;32mTrue\u001b[0m\u001b[0;34m,\u001b[0m\u001b[0;34m\u001b[0m\n",
      "\u001b[0;34m\u001b[0m    \u001b[0mstart_new_session\u001b[0m\u001b[0;34m=\u001b[0m\u001b[0;32mFalse\u001b[0m\u001b[0;34m,\u001b[0m\u001b[0;34m\u001b[0m\n",
      "\u001b[0;34m\u001b[0m    \u001b[0mpass_fds\u001b[0m\u001b[0;34m=\u001b[0m\u001b[0;34m(\u001b[0m\u001b[0;34m)\u001b[0m\u001b[0;34m,\u001b[0m\u001b[0;34m\u001b[0m\n",
      "\u001b[0;34m\u001b[0m    \u001b[0;34m*\u001b[0m\u001b[0;34m,\u001b[0m\u001b[0;34m\u001b[0m\n",
      "\u001b[0;34m\u001b[0m    \u001b[0muser\u001b[0m\u001b[0;34m=\u001b[0m\u001b[0;32mNone\u001b[0m\u001b[0;34m,\u001b[0m\u001b[0;34m\u001b[0m\n",
      "\u001b[0;34m\u001b[0m    \u001b[0mgroup\u001b[0m\u001b[0;34m=\u001b[0m\u001b[0;32mNone\u001b[0m\u001b[0;34m,\u001b[0m\u001b[0;34m\u001b[0m\n",
      "\u001b[0;34m\u001b[0m    \u001b[0mextra_groups\u001b[0m\u001b[0;34m=\u001b[0m\u001b[0;32mNone\u001b[0m\u001b[0;34m,\u001b[0m\u001b[0;34m\u001b[0m\n",
      "\u001b[0;34m\u001b[0m    \u001b[0mencoding\u001b[0m\u001b[0;34m=\u001b[0m\u001b[0;32mNone\u001b[0m\u001b[0;34m,\u001b[0m\u001b[0;34m\u001b[0m\n",
      "\u001b[0;34m\u001b[0m    \u001b[0merrors\u001b[0m\u001b[0;34m=\u001b[0m\u001b[0;32mNone\u001b[0m\u001b[0;34m,\u001b[0m\u001b[0;34m\u001b[0m\n",
      "\u001b[0;34m\u001b[0m    \u001b[0mtext\u001b[0m\u001b[0;34m=\u001b[0m\u001b[0;32mNone\u001b[0m\u001b[0;34m,\u001b[0m\u001b[0;34m\u001b[0m\n",
      "\u001b[0;34m\u001b[0m    \u001b[0mumask\u001b[0m\u001b[0;34m=\u001b[0m\u001b[0;34m-\u001b[0m\u001b[0;36m1\u001b[0m\u001b[0;34m,\u001b[0m\u001b[0;34m\u001b[0m\n",
      "\u001b[0;34m\u001b[0m    \u001b[0mpipesize\u001b[0m\u001b[0;34m=\u001b[0m\u001b[0;34m-\u001b[0m\u001b[0;36m1\u001b[0m\u001b[0;34m,\u001b[0m\u001b[0;34m\u001b[0m\n",
      "\u001b[0;34m\u001b[0m    \u001b[0mprocess_group\u001b[0m\u001b[0;34m=\u001b[0m\u001b[0;32mNone\u001b[0m\u001b[0;34m,\u001b[0m\u001b[0;34m\u001b[0m\n",
      "\u001b[0;34m\u001b[0m\u001b[0;34m)\u001b[0m\u001b[0;34m\u001b[0m\u001b[0;34m\u001b[0m\u001b[0m\n",
      "\u001b[0;31mDocstring:\u001b[0m     \n",
      "Execute a child program in a new process.\n",
      "\n",
      "For a complete description of the arguments see the Python documentation.\n",
      "\n",
      "Arguments:\n",
      "  args: A string, or a sequence of program arguments.\n",
      "\n",
      "  bufsize: supplied as the buffering argument to the open() function when\n",
      "      creating the stdin/stdout/stderr pipe file objects\n",
      "\n",
      "  executable: A replacement program to execute.\n",
      "\n",
      "  stdin, stdout and stderr: These specify the executed programs' standard\n",
      "      input, standard output and standard error file handles, respectively.\n",
      "\n",
      "  preexec_fn: (POSIX only) An object to be called in the child process\n",
      "      just before the child is executed.\n",
      "\n",
      "  close_fds: Controls closing or inheriting of file descriptors.\n",
      "\n",
      "  shell: If true, the command will be executed through the shell.\n",
      "\n",
      "  cwd: Sets the current directory before the child is executed.\n",
      "\n",
      "  env: Defines the environment variables for the new process.\n",
      "\n",
      "  text: If true, decode stdin, stdout and stderr using the given encoding\n",
      "      (if set) or the system default otherwise.\n",
      "\n",
      "  universal_newlines: Alias of text, provided for backwards compatibility.\n",
      "\n",
      "  startupinfo and creationflags (Windows only)\n",
      "\n",
      "  restore_signals (POSIX only)\n",
      "\n",
      "  start_new_session (POSIX only)\n",
      "\n",
      "  process_group (POSIX only)\n",
      "\n",
      "  group (POSIX only)\n",
      "\n",
      "  extra_groups (POSIX only)\n",
      "\n",
      "  user (POSIX only)\n",
      "\n",
      "  umask (POSIX only)\n",
      "\n",
      "  pass_fds (POSIX only)\n",
      "\n",
      "  encoding and errors: Text mode encoding and error handling to use for\n",
      "      file objects stdin, stdout and stderr.\n",
      "\n",
      "Attributes:\n",
      "    stdin, stdout, stderr, pid, returncode\n",
      "\u001b[0;31mInit docstring:\u001b[0m Create new Popen instance.\n",
      "\u001b[0;31mFile:\u001b[0m           /usr/local/python/3.12.1/lib/python3.12/subprocess.py\n",
      "\u001b[0;31mType:\u001b[0m           type\n",
      "\u001b[0;31mSubclasses:\u001b[0m     "
     ]
    }
   ],
   "source": [
    "subprocess.Popen?"
   ]
  },
  {
   "cell_type": "code",
   "execution_count": 23,
   "metadata": {},
   "outputs": [
    {
     "data": {
      "text/plain": [
       "<Popen: returncode: None args: ['ps', '-ef']>"
      ]
     },
     "execution_count": 23,
     "metadata": {},
     "output_type": "execute_result"
    },
    {
     "name": "stdout",
     "output_type": "stream",
     "text": [
      "UID          PID    PPID  C STIME TTY          TIME CMD\n",
      "codespa+       1       0  0 20:35 ?        00:00:00 /sbin/docker-init -- /bin/sh -c echo Container started trap \"exit 0\" 15 /usr/local/share/ssh-init.sh /usr/local/share/docker-init.sh exec \"$@\" while sleep 1 & wait $!; do :; done - /usr/local/share/docker-init.sh /usr/local/share/ssh-init.sh sleep infinity\n",
      "codespa+       8       1  0 20:35 ?        00:00:00 sleep infinity\n",
      "root          36       1  0 20:35 ?        00:00:00 sshd: /usr/sbin/sshd [listener] 0 of 10-100 startups\n",
      "codespa+     409       0  0 20:35 ?        00:00:00 /bin/sh\n",
      "root         446       0  0 20:35 ?        00:00:00 /bin/sh\n",
      "codespa+     599       0  0 20:35 ?        00:00:00 sh /home/codespace/.vscode-remote/bin/384ff7382de624fb94dbaf6da11977bba1ecd427/bin/code-server --log trace --force-disable-user-env --server-data-dir /home/codespace/.vscode-remote --accept-server-license-terms --host 127.0.0.1 --port 0 --connection-token-file /home/codespace/.vscode-remote/data/Machine/.connection-token-384ff7382de624fb94dbaf6da11977bba1ecd427 --extensions-download-dir /home/codespace/.vscode-remote/extensionsCache --start-server  --enable-remote-auto-shutdown --skip-requirements-check\n",
      "codespa+     609     599  0 20:35 ?        00:00:08 /vscode/bin/linux-x64/384ff7382de624fb94dbaf6da11977bba1ecd427/node /vscode/bin/linux-x64/384ff7382de624fb94dbaf6da11977bba1ecd427/out/server-main.js --log trace --force-disable-user-env --server-data-dir /home/codespace/.vscode-remote --accept-server-license-terms --host 127.0.0.1 --port 0 --connection-token-file /home/codespace/.vscode-remote/data/Machine/.connection-token-384ff7382de624fb94dbaf6da11977bba1ecd427 --extensions-download-dir /home/codespace/.vscode-remote/extensionsCache --start-server  --enable-remote-auto-shutdown --skip-requirements-check\n",
      "codespa+     630     609  6 20:35 ?        00:02:43 /vscode/bin/linux-x64/384ff7382de624fb94dbaf6da11977bba1ecd427/node --dns-result-order=ipv4first /vscode/bin/linux-x64/384ff7382de624fb94dbaf6da11977bba1ecd427/out/bootstrap-fork --type=extensionHost --transformURIs --useHostProxy=false\n",
      "codespa+     642     609  0 20:35 ?        00:00:06 /vscode/bin/linux-x64/384ff7382de624fb94dbaf6da11977bba1ecd427/node /vscode/bin/linux-x64/384ff7382de624fb94dbaf6da11977bba1ecd427/out/bootstrap-fork --type=fileWatcher\n",
      "codespa+    1089     630  0 20:35 ?        00:00:00 /vscode/bin/linux-x64/384ff7382de624fb94dbaf6da11977bba1ecd427/node /vscode/bin/linux-x64/384ff7382de624fb94dbaf6da11977bba1ecd427/extensions/markdown-language-features/dist/serverWorkerMain --node-ipc --clientProcessId=630\n",
      "codespa+    1119     609  0 20:35 ?        00:00:02 /vscode/bin/linux-x64/384ff7382de624fb94dbaf6da11977bba1ecd427/node /vscode/bin/linux-x64/384ff7382de624fb94dbaf6da11977bba1ecd427/out/bootstrap-fork --type=ptyHost --logsPath /home/codespace/.vscode-remote/data/logs/20241021T203516\n",
      "codespa+    1169    1119  0 20:35 pts/0    00:00:00 /bin/bash --init-file /vscode/bin/linux-x64/384ff7382de624fb94dbaf6da11977bba1ecd427/out/vs/workbench/contrib/terminal/common/scripts/shellIntegration-bash.sh\n",
      "codespa+    1628     630  0 20:35 ?        00:00:00 /home/codespace/.vscode-remote/extensions/ms-python.python-2024.16.1-linux-x64/python-env-tools/bin/pet server\n",
      "codespa+    1878    1119  0 20:35 pts/1    00:00:00 /bin/bash --init-file /vscode/bin/linux-x64/384ff7382de624fb94dbaf6da11977bba1ecd427/out/vs/workbench/contrib/terminal/common/scripts/shellIntegration-bash.sh\n",
      "codespa+    2283     630  4 20:35 ?        00:01:55 /vscode/bin/linux-x64/384ff7382de624fb94dbaf6da11977bba1ecd427/node /home/codespace/.vscode-remote/extensions/ms-python.vscode-pylance-2024.10.1/dist/server.bundle.js --cancellationReceive=file:a24fc550f5aa3370718864ab6a33705efdfdd9c971 --node-ipc --clientProcessId=630\n",
      "codespa+    2289       0  0 20:35 ?        00:00:00 /bin/sh\n",
      "root        2330       0  0 20:35 ?        00:00:00 /bin/sh\n",
      "root        2749       1  0 20:35 ?        00:00:00 dockerd --dns 168.63.129.16\n",
      "root        2756    2749  0 20:35 ?        00:00:00 containerd --config /var/run/docker/containerd/containerd.toml\n",
      "codespa+    3744     630  0 20:38 ?        00:00:00 /vscode/bin/linux-x64/384ff7382de624fb94dbaf6da11977bba1ecd427/node /vscode/bin/linux-x64/384ff7382de624fb94dbaf6da11977bba1ecd427/extensions/json-language-features/server/dist/node/jsonServerMain --node-ipc --clientProcessId=630\n",
      "codespa+    4274     630  1 20:39 ?        00:00:28 /home/codespace/.python/current/bin/python -m ipykernel_launcher --f=/home/codespace/.local/share/jupyter/runtime/kernel-v3a865c785d0939ce805158a31bb1df77f36e0f41a.json\n",
      "codespa+   16581     630  1 21:00 ?        00:00:10 /home/codespace/.python/current/bin/python -m ipykernel_launcher --f=/home/codespace/.local/share/jupyter/runtime/kernel-v38fb7d4e7d2d9797edeced546742baad474f5ba45.json\n",
      "codespa+   24144   16581  0 21:16 ?        00:00:00 ps -ef\n"
     ]
    }
   ],
   "source": [
    "subprocess.Popen('ps -ef '.split())"
   ]
  },
  {
   "cell_type": "code",
   "execution_count": 24,
   "metadata": {},
   "outputs": [
    {
     "name": "stdout",
     "output_type": "stream",
     "text": [
      "UID          PID    PPID  C STIME TTY          TIME CMD\n",
      "codespa+       1       0  0 20:35 ?        00:00:00 /sbin/docker-init -- /bin/sh -c echo Container started trap \"exit 0\" 15 /usr/local/share/ssh-init.sh /usr/local/share/docker-init.sh exec \"$@\" while sleep 1 & wait $!; do :; done - /usr/local/share/docker-init.sh /usr/local/share/ssh-init.sh sleep infinity\n",
      "codespa+       8       1  0 20:35 ?        00:00:00 sleep infinity\n",
      "root          36       1  0 20:35 ?        00:00:00 sshd: /usr/sbin/sshd [listener] 0 of 10-100 startups\n",
      "codespa+     409       0  0 20:35 ?        00:00:00 /bin/sh\n",
      "root         446       0  0 20:35 ?        00:00:00 /bin/sh\n",
      "codespa+     599       0  0 20:35 ?        00:00:00 sh /home/codespace/.vscode-remote/bin/384ff7382de624fb94dbaf6da11977bba1ecd427/bin/code-server --log trace --force-disable-user-env --server-data-dir /home/codespace/.vscode-remote --accept-server-license-terms --host 127.0.0.1 --port 0 --connection-token-file /home/codespace/.vscode-remote/data/Machine/.connection-token-384ff7382de624fb94dbaf6da11977bba1ecd427 --extensions-download-dir /home/codespace/.vscode-remote/extensionsCache --start-server  --enable-remote-auto-shutdown --skip-requirements-check\n",
      "codespa+     609     599  0 20:35 ?        00:00:08 /vscode/bin/linux-x64/384ff7382de624fb94dbaf6da11977bba1ecd427/node /vscode/bin/linux-x64/384ff7382de624fb94dbaf6da11977bba1ecd427/out/server-main.js --log trace --force-disable-user-env --server-data-dir /home/codespace/.vscode-remote --accept-server-license-terms --host 127.0.0.1 --port 0 --connection-token-file /home/codespace/.vscode-remote/data/Machine/.connection-token-384ff7382de624fb94dbaf6da11977bba1ecd427 --extensions-download-dir /home/codespace/.vscode-remote/extensionsCache --start-server  --enable-remote-auto-shutdown --skip-requirements-check\n",
      "codespa+     630     609  6 20:35 ?        00:02:49 /vscode/bin/linux-x64/384ff7382de624fb94dbaf6da11977bba1ecd427/node --dns-result-order=ipv4first /vscode/bin/linux-x64/384ff7382de624fb94dbaf6da11977bba1ecd427/out/bootstrap-fork --type=extensionHost --transformURIs --useHostProxy=false\n",
      "codespa+     642     609  0 20:35 ?        00:00:06 /vscode/bin/linux-x64/384ff7382de624fb94dbaf6da11977bba1ecd427/node /vscode/bin/linux-x64/384ff7382de624fb94dbaf6da11977bba1ecd427/out/bootstrap-fork --type=fileWatcher\n",
      "codespa+    1089     630  0 20:35 ?        00:00:00 /vscode/bin/linux-x64/384ff7382de624fb94dbaf6da11977bba1ecd427/node /vscode/bin/linux-x64/384ff7382de624fb94dbaf6da11977bba1ecd427/extensions/markdown-language-features/dist/serverWorkerMain --node-ipc --clientProcessId=630\n",
      "codespa+    1119     609  0 20:35 ?        00:00:02 /vscode/bin/linux-x64/384ff7382de624fb94dbaf6da11977bba1ecd427/node /vscode/bin/linux-x64/384ff7382de624fb94dbaf6da11977bba1ecd427/out/bootstrap-fork --type=ptyHost --logsPath /home/codespace/.vscode-remote/data/logs/20241021T203516\n",
      "codespa+    1169    1119  0 20:35 pts/0    00:00:00 /bin/bash --init-file /vscode/bin/linux-x64/384ff7382de624fb94dbaf6da11977bba1ecd427/out/vs/workbench/contrib/terminal/common/scripts/shellIntegration-bash.sh\n",
      "codespa+    1628     630  0 20:35 ?        00:00:00 /home/codespace/.vscode-remote/extensions/ms-python.python-2024.16.1-linux-x64/python-env-tools/bin/pet server\n",
      "codespa+    1878    1119  0 20:35 pts/1    00:00:00 /bin/bash --init-file /vscode/bin/linux-x64/384ff7382de624fb94dbaf6da11977bba1ecd427/out/vs/workbench/contrib/terminal/common/scripts/shellIntegration-bash.sh\n",
      "codespa+    2283     630  4 20:35 ?        00:01:57 /vscode/bin/linux-x64/384ff7382de624fb94dbaf6da11977bba1ecd427/node /home/codespace/.vscode-remote/extensions/ms-python.vscode-pylance-2024.10.1/dist/server.bundle.js --cancellationReceive=file:a24fc550f5aa3370718864ab6a33705efdfdd9c971 --node-ipc --clientProcessId=630\n",
      "codespa+    2289       0  0 20:35 ?        00:00:00 /bin/sh\n",
      "root        2330       0  0 20:35 ?        00:00:00 /bin/sh\n",
      "root        2749       1  0 20:35 ?        00:00:00 dockerd --dns 168.63.129.16\n",
      "root        2756    2749  0 20:35 ?        00:00:00 containerd --config /var/run/docker/containerd/containerd.toml\n",
      "codespa+    3744     630  0 20:38 ?        00:00:00 /vscode/bin/linux-x64/384ff7382de624fb94dbaf6da11977bba1ecd427/node /vscode/bin/linux-x64/384ff7382de624fb94dbaf6da11977bba1ecd427/extensions/json-language-features/server/dist/node/jsonServerMain --node-ipc --clientProcessId=630\n",
      "codespa+    4274     630  1 20:39 ?        00:00:28 /home/codespace/.python/current/bin/python -m ipykernel_launcher --f=/home/codespace/.local/share/jupyter/runtime/kernel-v3a865c785d0939ce805158a31bb1df77f36e0f41a.json\n",
      "codespa+   16581     630  1 21:00 ?        00:00:12 /home/codespace/.python/current/bin/python -m ipykernel_launcher --f=/home/codespace/.local/share/jupyter/runtime/kernel-v38fb7d4e7d2d9797edeced546742baad474f5ba45.json\n",
      "codespa+   24144   16581  0 21:16 ?        00:00:00 [ps] <defunct>\n",
      "codespa+   24593   16581  0 21:16 ?        00:00:00 ps -ef\n"
     ]
    }
   ],
   "source": [
    "output = subprocess.Popen('ps -ef '.split())"
   ]
  },
  {
   "cell_type": "code",
   "execution_count": 25,
   "metadata": {},
   "outputs": [
    {
     "name": "stdout",
     "output_type": "stream",
     "text": [
      "<Popen: returncode: None args: ['ps', '-ef']>\n"
     ]
    }
   ],
   "source": [
    "print(output)"
   ]
  },
  {
   "cell_type": "code",
   "execution_count": 26,
   "metadata": {},
   "outputs": [],
   "source": [
    "output = subprocess.Popen('ps -ef '.split(), stdout=subprocess.PIPE, stderr=subprocess.PIPE)"
   ]
  },
  {
   "cell_type": "code",
   "execution_count": 27,
   "metadata": {},
   "outputs": [
    {
     "name": "stdout",
     "output_type": "stream",
     "text": [
      "<Popen: returncode: None args: ['ps', '-ef']>\n"
     ]
    }
   ],
   "source": [
    "print(output)"
   ]
  },
  {
   "cell_type": "code",
   "execution_count": 28,
   "metadata": {},
   "outputs": [],
   "source": [
    "output = subprocess.Popen('ps -ef '.split(), shell=True,\n",
    "                     stdout=subprocess.PIPE, stderr=subprocess.PIPE)"
   ]
  },
  {
   "cell_type": "code",
   "execution_count": 29,
   "metadata": {},
   "outputs": [
    {
     "data": {
      "text/plain": [
       "(b'    PID TTY          TIME CMD\\n      1 ?        00:00:00 docker-init\\n      8 ?        00:00:00 sleep\\n    409 ?        00:00:00 sh\\n    599 ?        00:00:00 sh\\n    609 ?        00:00:08 node\\n    630 ?        00:03:25 node\\n    642 ?        00:00:06 node\\n   1089 ?        00:00:00 node\\n   1119 ?        00:00:02 node\\n   1628 ?        00:00:00 pet\\n   2283 ?        00:02:06 node\\n   2289 ?        00:00:00 sh\\n   3744 ?        00:00:00 node\\n   4274 ?        00:00:28 python\\n  16581 ?        00:00:23 python\\n  24144 ?        00:00:00 ps <defunct>\\n  26637 ?        00:00:00 sh <defunct>\\n  26966 ?        00:00:00 sh\\n  26967 ?        00:00:00 ps\\n',\n",
       " b'')"
      ]
     },
     "execution_count": 29,
     "metadata": {},
     "output_type": "execute_result"
    }
   ],
   "source": [
    "p = subprocess.Popen(\n",
    "    'ps -ef '.split(), \n",
    "    shell=True,\n",
    "    stdout=subprocess.PIPE, stderr=subprocess.PIPE)\n",
    "\n",
    "p.communicate()"
   ]
  },
  {
   "cell_type": "code",
   "execution_count": 30,
   "metadata": {},
   "outputs": [],
   "source": [
    "output, err = p.communicate()"
   ]
  },
  {
   "cell_type": "code",
   "execution_count": 31,
   "metadata": {},
   "outputs": [
    {
     "data": {
      "text/plain": [
       "b''"
      ]
     },
     "execution_count": 31,
     "metadata": {},
     "output_type": "execute_result"
    }
   ],
   "source": [
    "err"
   ]
  },
  {
   "cell_type": "code",
   "execution_count": 33,
   "metadata": {},
   "outputs": [
    {
     "data": {
      "text/plain": [
       "b'    PID TTY          TIME CMD\\n      1 ?        00:00:00 docker-init\\n      8 ?        00:00:00 sleep\\n    409 ?        00:00:00 sh\\n    599 ?        00:00:00 sh\\n    609 ?        00:00:08 node\\n    630 ?        00:03:25 node\\n    642 ?        00:00:06 node\\n   1089 ?        00:00:00 node\\n   1119 ?        00:00:02 node\\n   1628 ?        00:00:00 pet\\n   2283 ?        00:02:06 node\\n   2289 ?        00:00:00 sh\\n   3744 ?        00:00:00 node\\n   4274 ?        00:00:28 python\\n  16581 ?        00:00:23 python\\n  24144 ?        00:00:00 ps <defunct>\\n  26637 ?        00:00:00 sh <defunct>\\n  26966 ?        00:00:00 sh\\n  26967 ?        00:00:00 ps\\n'"
      ]
     },
     "execution_count": 33,
     "metadata": {},
     "output_type": "execute_result"
    }
   ],
   "source": [
    "output"
   ]
  },
  {
   "cell_type": "code",
   "execution_count": 34,
   "metadata": {},
   "outputs": [
    {
     "name": "stdout",
     "output_type": "stream",
     "text": [
      "\n",
      "output:    PID TTY          TIME CMD\n",
      "      1 ?        00:00:00 docker-init\n",
      "      8 ?        00:00:00 sleep\n",
      "    409 ?        00:00:00 sh\n",
      "    599 ?        00:00:00 sh\n",
      "    609 ?        00:00:08 node\n",
      "    630 ?        00:03:25 node\n",
      "    642 ?        00:00:06 node\n",
      "   1089 ?        00:00:00 node\n",
      "   1119 ?        00:00:02 node\n",
      "   1628 ?        00:00:00 pet\n",
      "   2283 ?        00:02:06 node\n",
      "   2289 ?        00:00:00 sh\n",
      "   3744 ?        00:00:00 node\n",
      "   4274 ?        00:00:28 python\n",
      "  16581 ?        00:00:23 python\n",
      "  24144 ?        00:00:00 ps <defunct>\n",
      "  26637 ?        00:00:00 sh <defunct>\n",
      "  26966 ?        00:00:00 sh\n",
      "  26967 ?        00:00:00 ps\n",
      "\n",
      "err   :\n"
     ]
    }
   ],
   "source": [
    "output = output.decode(\"utf-8\")\n",
    "err = err.decode(\"utf-8\")\n",
    "\n",
    "print(f\"\\noutput:{output}\")\n",
    "print(f\"err   :{err}\")"
   ]
  },
  {
   "cell_type": "code",
   "execution_count": 36,
   "metadata": {},
   "outputs": [
    {
     "name": "stdout",
     "output_type": "stream",
     "text": [
      "\n",
      "output:\n",
      "err   :/bin/sh: 1: ping: not found\n",
      "\n",
      "\n",
      "output:docker0: flags=4099<UP,BROADCAST,MULTICAST>  mtu 1500\n",
      "        inet 172.17.0.1  netmask 255.255.0.0  broadcast 172.17.255.255\n",
      "        ether 02:42:89:cd:08:0d  txqueuelen 0  (Ethernet)\n",
      "        RX packets 0  bytes 0 (0.0 B)\n",
      "        RX errors 0  dropped 0  overruns 0  frame 0\n",
      "        TX packets 0  bytes 0 (0.0 B)\n",
      "        TX errors 0  dropped 0 overruns 0  carrier 0  collisions 0\n",
      "\n",
      "eth0: flags=4163<UP,BROADCAST,RUNNING,MULTICAST>  mtu 1500\n",
      "        inet 10.0.1.234  netmask 255.255.0.0  broadcast 10.0.255.255\n",
      "        inet6 fe80::7e1e:52ff:fe3a:c8a6  prefixlen 64  scopeid 0x20<link>\n",
      "        ether 7c:1e:52:3a:c8:a6  txqueuelen 1000  (Ethernet)\n",
      "        RX packets 17300453  bytes 23983425535 (23.9 GB)\n",
      "        RX errors 0  dropped 0  overruns 0  frame 0\n",
      "        TX packets 500945  bytes 221495924 (221.4 MB)\n",
      "        TX errors 0  dropped 0 overruns 0  carrier 0  collisions 0\n",
      "\n",
      "lo: flags=73<UP,LOOPBACK,RUNNING>  mtu 65536\n",
      "        inet 127.0.0.1  netmask 255.0.0.0\n",
      "        inet6 ::1  prefixlen 128  scopeid 0x10<host>\n",
      "        loop  txqueuelen 1000  (Local Loopback)\n",
      "        RX packets 245773  bytes 337950770 (337.9 MB)\n",
      "        RX errors 0  dropped 0  overruns 0  frame 0\n",
      "        TX packets 245773  bytes 337950770 (337.9 MB)\n",
      "        TX errors 0  dropped 0 overruns 0  carrier 0  collisions 0\n",
      "\n",
      "\n",
      "err   :\n",
      "\n",
      "output:\n",
      "err   :/bin/sh: 1: ifconfigsda: not found\n",
      "\n"
     ]
    }
   ],
   "source": [
    "def get_execution_result(cmd: str):\n",
    "    p = subprocess.Popen(\n",
    "        cmd, shell=True, stdout=subprocess.PIPE, stderr=subprocess.PIPE\n",
    "    )\n",
    "    output, err = p.communicate()\n",
    "\n",
    "    output = output.decode(\"utf-8\")\n",
    "    err = err.decode(\"utf-8\")\n",
    "\n",
    "    print(f\"\\noutput:{output}\")\n",
    "    print(f\"err   :{err}\")\n",
    "\n",
    "\n",
    "get_execution_result(\"ping google.com\")\n",
    "get_execution_result(\"ifconfig\")\n",
    "get_execution_result(\"ifconfigsda\")"
   ]
  },
  {
   "cell_type": "code",
   "execution_count": 37,
   "metadata": {},
   "outputs": [],
   "source": [
    "# assignment - extend this to get the summation of process id values"
   ]
  },
  {
   "cell_type": "code",
   "execution_count": null,
   "metadata": {},
   "outputs": [],
   "source": []
  }
 ],
 "metadata": {
  "kernelspec": {
   "display_name": "Python 3",
   "language": "python",
   "name": "python3"
  },
  "language_info": {
   "codemirror_mode": {
    "name": "ipython",
    "version": 3
   },
   "file_extension": ".py",
   "mimetype": "text/x-python",
   "name": "python",
   "nbconvert_exporter": "python",
   "pygments_lexer": "ipython3",
   "version": "3.12.1"
  }
 },
 "nbformat": 4,
 "nbformat_minor": 2
}
